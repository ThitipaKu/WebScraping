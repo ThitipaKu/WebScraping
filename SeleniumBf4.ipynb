{
 "cells": [
  {
   "cell_type": "markdown",
   "id": "5fb96ab2",
   "metadata": {},
   "source": [
    "# ติดตั้งไลบรารี"
   ]
  },
  {
   "cell_type": "code",
   "execution_count": null,
   "id": "1b8f010e",
   "metadata": {},
   "outputs": [],
   "source": [
    "!pip install selenium"
   ]
  },
  {
   "cell_type": "code",
   "execution_count": null,
   "id": "3355cf92",
   "metadata": {},
   "outputs": [],
   "source": [
    "from selenium import webdriver"
   ]
  },
  {
   "cell_type": "code",
   "execution_count": null,
   "id": "068988f5",
   "metadata": {},
   "outputs": [],
   "source": [
    "driver = webdriver.Chrome(executable_path=r'C:\\Users\\Praew Thitipa\\Documents\\work\\AM448\\Project\\chromedriver.exe')"
   ]
  },
  {
   "cell_type": "code",
   "execution_count": null,
   "id": "f5fca426",
   "metadata": {},
   "outputs": [],
   "source": [
    "!pip install bs4"
   ]
  },
  {
   "cell_type": "code",
   "execution_count": null,
   "id": "dc726070",
   "metadata": {},
   "outputs": [],
   "source": [
    "import bs4"
   ]
  },
  {
   "cell_type": "code",
   "execution_count": null,
   "id": "00e1c087",
   "metadata": {},
   "outputs": [],
   "source": [
    "import pandas as pd"
   ]
  },
  {
   "cell_type": "markdown",
   "id": "c09b861a",
   "metadata": {},
   "source": [
    "# ข่าวอาชญากรรม"
   ]
  },
  {
   "cell_type": "code",
   "execution_count": null,
   "id": "6d2ab763",
   "metadata": {},
   "outputs": [],
   "source": [
    "driver.get('https://www.sanook.com/news/archive/crime/')"
   ]
  },
  {
   "cell_type": "code",
   "execution_count": null,
   "id": "8b98d261",
   "metadata": {},
   "outputs": [],
   "source": [
    "driver.execute_script(\"document.body.style.zoom = '100%' \")"
   ]
  },
  {
   "cell_type": "code",
   "execution_count": null,
   "id": "a9d6600d",
   "metadata": {},
   "outputs": [],
   "source": [
    "datacrime = driver.page_source"
   ]
  },
  {
   "cell_type": "code",
   "execution_count": null,
   "id": "0f0ebd15",
   "metadata": {},
   "outputs": [],
   "source": [
    "soup = bs4.BeautifulSoup(datacrime)"
   ]
  },
  {
   "cell_type": "code",
   "execution_count": null,
   "id": "9690b9b1",
   "metadata": {},
   "outputs": [],
   "source": [
    "all_title = soup.find_all('span',{'class' :'jsx-2430232205 jsx-3301973828 text-color-news'})"
   ]
  },
  {
   "cell_type": "code",
   "execution_count": null,
   "id": "c3c8bfa3",
   "metadata": {},
   "outputs": [],
   "source": [
    "titlescrime = []\n",
    "for title in all_title:\n",
    "    titlescrime.append(title.text)\n",
    "#titlescrime"
   ]
  },
  {
   "cell_type": "markdown",
   "id": "5b99c9dc",
   "metadata": {},
   "source": [
    "# ข่าวการเมือง"
   ]
  },
  {
   "cell_type": "code",
   "execution_count": null,
   "id": "43933ff5",
   "metadata": {},
   "outputs": [],
   "source": [
    "driver.get('https://www.sanook.com/news/archive/politic/')"
   ]
  },
  {
   "cell_type": "code",
   "execution_count": null,
   "id": "d0bc3480",
   "metadata": {},
   "outputs": [],
   "source": [
    "driver.execute_script(\"document.body.style.zoom = '100%' \")"
   ]
  },
  {
   "cell_type": "code",
   "execution_count": null,
   "id": "732191f9",
   "metadata": {},
   "outputs": [],
   "source": [
    "datapolitic = driver.page_source"
   ]
  },
  {
   "cell_type": "code",
   "execution_count": null,
   "id": "c989e8c2",
   "metadata": {},
   "outputs": [],
   "source": [
    "soup = bs4.BeautifulSoup(datapolitic)"
   ]
  },
  {
   "cell_type": "code",
   "execution_count": null,
   "id": "dc191573",
   "metadata": {},
   "outputs": [],
   "source": [
    "all_title = soup.find_all('span',{'class' :'jsx-2430232205 jsx-3301973828 text-color-news'})"
   ]
  },
  {
   "cell_type": "code",
   "execution_count": null,
   "id": "ae5ac961",
   "metadata": {},
   "outputs": [],
   "source": [
    "titlespolitic = []\n",
    "for title in all_title:\n",
    "    titlespolitic.append(title.text)\n",
    "#titlespolitic"
   ]
  },
  {
   "cell_type": "markdown",
   "id": "81a38115",
   "metadata": {},
   "source": [
    "# ข่าวกีฬา"
   ]
  },
  {
   "cell_type": "code",
   "execution_count": null,
   "id": "9355408a",
   "metadata": {},
   "outputs": [],
   "source": [
    "driver.get('https://www.sanook.com/sport/')"
   ]
  },
  {
   "cell_type": "code",
   "execution_count": null,
   "id": "de56e44e",
   "metadata": {},
   "outputs": [],
   "source": [
    "driver.execute_script(\"document.body.style.zoom = '100%' \")"
   ]
  },
  {
   "cell_type": "code",
   "execution_count": null,
   "id": "d4cdb646",
   "metadata": {},
   "outputs": [],
   "source": [
    "datasport = driver.page_source"
   ]
  },
  {
   "cell_type": "code",
   "execution_count": null,
   "id": "d88f542b",
   "metadata": {},
   "outputs": [],
   "source": [
    "soup = bs4.BeautifulSoup(datasport)"
   ]
  },
  {
   "cell_type": "code",
   "execution_count": null,
   "id": "dd0acb8e",
   "metadata": {},
   "outputs": [],
   "source": [
    "all_title = soup.find_all('h3',{'class' :'jsx-1435919678'})"
   ]
  },
  {
   "cell_type": "code",
   "execution_count": null,
   "id": "ab8e1514",
   "metadata": {},
   "outputs": [],
   "source": [
    "titlesport = []\n",
    "for title in all_title:\n",
    "    titlesport.append(title.text)\n",
    "#titlesport"
   ]
  },
  {
   "cell_type": "markdown",
   "id": "83fd03d5",
   "metadata": {},
   "source": [
    "# ข่าวบันเทิง"
   ]
  },
  {
   "cell_type": "code",
   "execution_count": null,
   "id": "abf9d083",
   "metadata": {},
   "outputs": [],
   "source": [
    "driver.get('https://www.sanook.com/news/entertain/')"
   ]
  },
  {
   "cell_type": "code",
   "execution_count": null,
   "id": "0e37f996",
   "metadata": {},
   "outputs": [],
   "source": [
    "driver.execute_script(\"document.body.style.zoom = '100%' \")"
   ]
  },
  {
   "cell_type": "code",
   "execution_count": null,
   "id": "a2c03331",
   "metadata": {},
   "outputs": [],
   "source": [
    "dataentertain = driver.page_source"
   ]
  },
  {
   "cell_type": "code",
   "execution_count": null,
   "id": "59dcf8a3",
   "metadata": {},
   "outputs": [],
   "source": [
    "soup = bs4.BeautifulSoup(dataentertain)"
   ]
  },
  {
   "cell_type": "code",
   "execution_count": null,
   "id": "001209df",
   "metadata": {},
   "outputs": [],
   "source": [
    "all_title = soup.find_all('h3',{'class' :'jsx-4178686359'})"
   ]
  },
  {
   "cell_type": "code",
   "execution_count": null,
   "id": "c309aa52",
   "metadata": {},
   "outputs": [],
   "source": [
    "titleentertain = []\n",
    "for title in all_title:\n",
    "    titleentertain.append(title.text)\n",
    "#titleentertain"
   ]
  },
  {
   "cell_type": "markdown",
   "id": "42df4b92",
   "metadata": {},
   "source": [
    "# Save เป็น Excel"
   ]
  },
  {
   "cell_type": "code",
   "execution_count": null,
   "id": "5b8e2a39",
   "metadata": {},
   "outputs": [],
   "source": [
    "news_data = pd.DataFrame([titlescrime,titlespolitic,titlesport,titleentertain,])"
   ]
  },
  {
   "cell_type": "code",
   "execution_count": null,
   "id": "602b6227",
   "metadata": {},
   "outputs": [],
   "source": [
    "news_data = news_data.transpose()"
   ]
  },
  {
   "cell_type": "code",
   "execution_count": null,
   "id": "b89cfc40",
   "metadata": {},
   "outputs": [],
   "source": [
    "news_data.columns = ['Crime','Politic','Sport','Entertain']"
   ]
  },
  {
   "cell_type": "code",
   "execution_count": null,
   "id": "ff084169",
   "metadata": {},
   "outputs": [],
   "source": [
    "#news_data.to_excel( r'C:\\Users\\Praew Thitipa\\Documents\\work\\AM448\\Project\\NewsDataCr.xlsx')"
   ]
  }
 ],
 "metadata": {
  "kernelspec": {
   "display_name": "Python 3 (ipykernel)",
   "language": "python",
   "name": "python3"
  },
  "language_info": {
   "codemirror_mode": {
    "name": "ipython",
    "version": 3
   },
   "file_extension": ".py",
   "mimetype": "text/x-python",
   "name": "python",
   "nbconvert_exporter": "python",
   "pygments_lexer": "ipython3",
   "version": "3.10.9"
  }
 },
 "nbformat": 4,
 "nbformat_minor": 5
}
